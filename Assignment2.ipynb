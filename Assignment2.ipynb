{
 "cells": [
  {
   "cell_type": "markdown",
   "metadata": {},
   "source": [
    "## Exercise 2: t-SNE visualization of Amazon reviews with polarity based color-coding\n"
   ]
  },
  {
   "cell_type": "markdown",
   "metadata": {},
   "source": [
    "Given Dataset consists of reviews of fine foods from amazon. Reviews describe (1)product and user information, (2)ratings, and (3) a plain text review.\n",
    " \n",
    "## Objective:\n",
    "* To determine given review is positive (Rating of 4 or 5) or negative (rating of 1 or 2).\n",
    "* To visualize Amazon reviews with polarity based color-coding via t-SSNE\n"
   ]
  },
  {
   "cell_type": "markdown",
   "metadata": {},
   "source": [
    "## 2.1 Loading data:\n",
    "The dataset is available in two forms\n",
    "\n",
    "* 2.1(a)csv file\n",
    "* 2.1(b)SQLite Database\n"
   ]
  },
  {
   "cell_type": "code",
   "execution_count": 1,
   "metadata": {},
   "outputs": [],
   "source": [
    "# All necessary module\n",
    "%matplotlib inline\n",
    "#import  sys\n",
    "import re\n",
    "import sqlite3\n",
    "import pandas as pd\n",
    "import numpy as np\n",
    "import nltk\n",
    "import string\n",
    "import matplotlib.pyplot as plt\n",
    "import seaborn as sn\n",
    "from sklearn.feature_extraction.text import TfidfTransformer\n",
    "from sklearn.feature_extraction.text import TfidfVectorizer\n",
    "\n",
    "from sklearn.feature_extraction.text import CountVectorizer\n",
    "from sklearn.metrics import confusion_matrix\n",
    "from sklearn import metrics\n",
    "from sklearn.metrics import roc_curve, auc\n",
    "from nltk.stem.porter import PorterStemmer"
   ]
  },
  {
   "cell_type": "code",
   "execution_count": 2,
   "metadata": {},
   "outputs": [
    {
     "name": "stdout",
     "output_type": "stream",
     "text": [
      "   Id   ProductId          UserId                      ProfileName  \\\n",
      "0   1  B001E4KFG0  A3SGXH7AUHU8GW                       delmartian   \n",
      "1   2  B00813GRG4  A1D87F6ZCVE5NK                           dll pa   \n",
      "2   3  B000LQOCH0   ABXLMWJIXXAIN  Natalia Corres \"Natalia Corres\"   \n",
      "3   4  B000UA0QIQ  A395BORC6FGVXV                             Karl   \n",
      "4   5  B006K2ZZ7K  A1UQRSCLF8GW1T    Michael D. Bigham \"M. Wassir\"   \n",
      "\n",
      "   HelpfulnessNumerator  HelpfulnessDenominator  Score        Time  \\\n",
      "0                     1                       1      5  1303862400   \n",
      "1                     0                       0      1  1346976000   \n",
      "2                     1                       1      4  1219017600   \n",
      "3                     3                       3      2  1307923200   \n",
      "4                     0                       0      5  1350777600   \n",
      "\n",
      "                 Summary                                               Text  \n",
      "0  Good Quality Dog Food  I have bought several of the Vitality canned d...  \n",
      "1      Not as Advertised  Product arrived labeled as Jumbo Salted Peanut...  \n",
      "2  \"Delight\" says it all  This is a confection that has been around a fe...  \n",
      "3         Cough Medicine  If you are looking for the secret ingredient i...  \n",
      "4            Great taffy  Great taffy at a great price.  There was a wid...  \n"
     ]
    }
   ],
   "source": [
    "# Reading CSV file and printing first five rows \n",
    "amz1 = pd.read_csv('Reviews.csv') # reviews.csv is  dataset file\n",
    "print(amz1.head())"
   ]
  },
  {
   "cell_type": "code",
   "execution_count": 3,
   "metadata": {},
   "outputs": [
    {
     "name": "stdout",
     "output_type": "stream",
     "text": [
      "(10000, 10)\n",
      "Index(['Id', 'ProductId', 'UserId', 'ProfileName', 'HelpfulnessNumerator',\n",
      "       'HelpfulnessDenominator', 'Score', 'Time', 'Summary', 'Text'],\n",
      "      dtype='object')\n"
     ]
    }
   ],
   "source": [
    "# dimensions of dataset and columns name\n",
    "amz=amz1[0:10000]\n",
    "print(amz.shape) \n",
    "print(amz.columns)"
   ]
  },
  {
   "cell_type": "markdown",
   "metadata": {},
   "source": [
    "The amazon reviews datafile contains 568454 rows of entry and 10 columns.For given objective, processing of data is necessary.\"Score\" and \"text\" columns is processed for required result."
   ]
  },
  {
   "cell_type": "code",
   "execution_count": 4,
   "metadata": {},
   "outputs": [
    {
     "data": {
      "text/plain": [
       "'\\namz_spl = amz.head(10000)\\n#print(amz_spl)\\n'"
      ]
     },
     "execution_count": 4,
     "metadata": {},
     "output_type": "execute_result"
    }
   ],
   "source": [
    "'''\n",
    "amz_spl = amz.head(10000)\n",
    "#print(amz_spl)\n",
    "'''"
   ]
  },
  {
   "cell_type": "code",
   "execution_count": 5,
   "metadata": {},
   "outputs": [
    {
     "name": "stderr",
     "output_type": "stream",
     "text": [
      "C:\\ProgramData\\Anaconda3\\lib\\site-packages\\ipykernel_launcher.py:12: SettingWithCopyWarning: \n",
      "A value is trying to be set on a copy of a slice from a DataFrame.\n",
      "Try using .loc[row_indexer,col_indexer] = value instead\n",
      "\n",
      "See the caveats in the documentation: http://pandas.pydata.org/pandas-docs/stable/indexing.html#indexing-view-versus-copy\n",
      "  if sys.path[0] == '':\n"
     ]
    }
   ],
   "source": [
    "# Processing\n",
    "#Give reviews with Score>3 a positive rating, and reviews with a score<3 a negative rating.\n",
    "\n",
    "def score_part(x):\n",
    "    if x < 3:\n",
    "        return 'negative'\n",
    "    return 'positive'\n",
    "\n",
    "actualScore = amz['Score']\n",
    "New_score = actualScore.map(score_part)\n",
    "#print(New_score)\n",
    "amz['Score']=New_score\n",
    "\n",
    "# If score is equal to 3,it is considered as neutral score.\n",
    "\n",
    "    \n",
    "\n",
    "\n",
    "\n"
   ]
  },
  {
   "cell_type": "code",
   "execution_count": 6,
   "metadata": {},
   "outputs": [
    {
     "name": "stdout",
     "output_type": "stream",
     "text": [
      "(10000, 10)\n"
     ]
    },
    {
     "data": {
      "text/html": [
       "<div>\n",
       "<style scoped>\n",
       "    .dataframe tbody tr th:only-of-type {\n",
       "        vertical-align: middle;\n",
       "    }\n",
       "\n",
       "    .dataframe tbody tr th {\n",
       "        vertical-align: top;\n",
       "    }\n",
       "\n",
       "    .dataframe thead th {\n",
       "        text-align: right;\n",
       "    }\n",
       "</style>\n",
       "<table border=\"1\" class=\"dataframe\">\n",
       "  <thead>\n",
       "    <tr style=\"text-align: right;\">\n",
       "      <th></th>\n",
       "      <th>Id</th>\n",
       "      <th>ProductId</th>\n",
       "      <th>UserId</th>\n",
       "      <th>ProfileName</th>\n",
       "      <th>HelpfulnessNumerator</th>\n",
       "      <th>HelpfulnessDenominator</th>\n",
       "      <th>Score</th>\n",
       "      <th>Time</th>\n",
       "      <th>Summary</th>\n",
       "      <th>Text</th>\n",
       "    </tr>\n",
       "  </thead>\n",
       "  <tbody>\n",
       "    <tr>\n",
       "      <th>0</th>\n",
       "      <td>1</td>\n",
       "      <td>B001E4KFG0</td>\n",
       "      <td>A3SGXH7AUHU8GW</td>\n",
       "      <td>delmartian</td>\n",
       "      <td>1</td>\n",
       "      <td>1</td>\n",
       "      <td>positive</td>\n",
       "      <td>1303862400</td>\n",
       "      <td>Good Quality Dog Food</td>\n",
       "      <td>I have bought several of the Vitality canned d...</td>\n",
       "    </tr>\n",
       "    <tr>\n",
       "      <th>1</th>\n",
       "      <td>2</td>\n",
       "      <td>B00813GRG4</td>\n",
       "      <td>A1D87F6ZCVE5NK</td>\n",
       "      <td>dll pa</td>\n",
       "      <td>0</td>\n",
       "      <td>0</td>\n",
       "      <td>negative</td>\n",
       "      <td>1346976000</td>\n",
       "      <td>Not as Advertised</td>\n",
       "      <td>Product arrived labeled as Jumbo Salted Peanut...</td>\n",
       "    </tr>\n",
       "    <tr>\n",
       "      <th>2</th>\n",
       "      <td>3</td>\n",
       "      <td>B000LQOCH0</td>\n",
       "      <td>ABXLMWJIXXAIN</td>\n",
       "      <td>Natalia Corres \"Natalia Corres\"</td>\n",
       "      <td>1</td>\n",
       "      <td>1</td>\n",
       "      <td>positive</td>\n",
       "      <td>1219017600</td>\n",
       "      <td>\"Delight\" says it all</td>\n",
       "      <td>This is a confection that has been around a fe...</td>\n",
       "    </tr>\n",
       "    <tr>\n",
       "      <th>3</th>\n",
       "      <td>4</td>\n",
       "      <td>B000UA0QIQ</td>\n",
       "      <td>A395BORC6FGVXV</td>\n",
       "      <td>Karl</td>\n",
       "      <td>3</td>\n",
       "      <td>3</td>\n",
       "      <td>negative</td>\n",
       "      <td>1307923200</td>\n",
       "      <td>Cough Medicine</td>\n",
       "      <td>If you are looking for the secret ingredient i...</td>\n",
       "    </tr>\n",
       "    <tr>\n",
       "      <th>4</th>\n",
       "      <td>5</td>\n",
       "      <td>B006K2ZZ7K</td>\n",
       "      <td>A1UQRSCLF8GW1T</td>\n",
       "      <td>Michael D. Bigham \"M. Wassir\"</td>\n",
       "      <td>0</td>\n",
       "      <td>0</td>\n",
       "      <td>positive</td>\n",
       "      <td>1350777600</td>\n",
       "      <td>Great taffy</td>\n",
       "      <td>Great taffy at a great price.  There was a wid...</td>\n",
       "    </tr>\n",
       "  </tbody>\n",
       "</table>\n",
       "</div>"
      ],
      "text/plain": [
       "   Id   ProductId          UserId                      ProfileName  \\\n",
       "0   1  B001E4KFG0  A3SGXH7AUHU8GW                       delmartian   \n",
       "1   2  B00813GRG4  A1D87F6ZCVE5NK                           dll pa   \n",
       "2   3  B000LQOCH0   ABXLMWJIXXAIN  Natalia Corres \"Natalia Corres\"   \n",
       "3   4  B000UA0QIQ  A395BORC6FGVXV                             Karl   \n",
       "4   5  B006K2ZZ7K  A1UQRSCLF8GW1T    Michael D. Bigham \"M. Wassir\"   \n",
       "\n",
       "   HelpfulnessNumerator  HelpfulnessDenominator     Score        Time  \\\n",
       "0                     1                       1  positive  1303862400   \n",
       "1                     0                       0  negative  1346976000   \n",
       "2                     1                       1  positive  1219017600   \n",
       "3                     3                       3  negative  1307923200   \n",
       "4                     0                       0  positive  1350777600   \n",
       "\n",
       "                 Summary                                               Text  \n",
       "0  Good Quality Dog Food  I have bought several of the Vitality canned d...  \n",
       "1      Not as Advertised  Product arrived labeled as Jumbo Salted Peanut...  \n",
       "2  \"Delight\" says it all  This is a confection that has been around a fe...  \n",
       "3         Cough Medicine  If you are looking for the secret ingredient i...  \n",
       "4            Great taffy  Great taffy at a great price.  There was a wid...  "
      ]
     },
     "execution_count": 6,
     "metadata": {},
     "output_type": "execute_result"
    }
   ],
   "source": [
    "print(amz.shape)\n",
    "amz.head(5)\n",
    "\n",
    "#Now,check the Score column  for postive and negative entry of reviews\n",
    "#\n"
   ]
  },
  {
   "cell_type": "code",
   "execution_count": 7,
   "metadata": {},
   "outputs": [],
   "source": [
    "#Processing of ProductId\n",
    "#Sorting data according to ProductId in ascending order\n",
    "sorted_data=amz.sort_values('ProductId', axis=0, ascending=True, inplace=False, kind='quicksort', na_position='last')"
   ]
  },
  {
   "cell_type": "code",
   "execution_count": 8,
   "metadata": {},
   "outputs": [
    {
     "name": "stdout",
     "output_type": "stream",
     "text": [
      "        Id   ProductId          UserId      ProfileName  HelpfulnessNumerator  \\\n",
      "2774  2775  B00002NCJC  A13RRPGE79XFFH         reader48                     0   \n",
      "2773  2774  B00002NCJC  A196AJHU9EASJN     Alex Chaffee                     0   \n",
      "1243  1244  B00002Z754  A3B8RCEI0FXFI6        B G Chase                    10   \n",
      "1244  1245  B00002Z754  A29Z5PI9BW2PU3           Robbie                     7   \n",
      "9524  9525  B00005V3DC  A2ZYCEEYBUQZND  Robby \"Robby C\"                     5   \n",
      "\n",
      "      HelpfulnessDenominator     Score        Time  \\\n",
      "2774                       0  positive  1281052800   \n",
      "2773                       0  positive  1282953600   \n",
      "1243                      10  positive   962236800   \n",
      "1244                       7  positive   961718400   \n",
      "9524                       7  positive  1176249600   \n",
      "\n",
      "                             Summary  \\\n",
      "2774                    Flies Begone   \n",
      "2773                   thirty bucks?   \n",
      "1243  WOW Make your own 'slickers' !   \n",
      "1244                   Great Product   \n",
      "9524   Best herbal tea for digestion   \n",
      "\n",
      "                                                   Text  \n",
      "2774  We have used the Victor fly bait for 3 seasons...  \n",
      "2773  Why is this $[...] when the same product is av...  \n",
      "1243  I just received my shipment and could hardly w...  \n",
      "1244  This was a really good idea and the final prod...  \n",
      "9524  If you're new to this product you need to be v...  \n"
     ]
    }
   ],
   "source": [
    "print(sorted_data.head()) # printing sorted data"
   ]
  },
  {
   "cell_type": "code",
   "execution_count": 9,
   "metadata": {},
   "outputs": [
    {
     "name": "stdout",
     "output_type": "stream",
     "text": [
      "        Id   ProductId          UserId    ProfileName  HelpfulnessNumerator  \\\n",
      "2334  2335  B0001FQVCK   A5D06XJHDXK75          C. Po                     3   \n",
      "29      30  B0001PB9FY  A3HDKO7OW0QNK4   Canadian Fan                     1   \n",
      "2323  2324  B0001VWE0C   AQM74O8Z4FMS0       Sunshine                     0   \n",
      "2309  2310  B0001VWE0M   AQM74O8Z4FMS0       Sunshine                     0   \n",
      "4640  4641  B0002NYO9I   A5DVX3B075B09  Patricia Kays                     0   \n",
      "\n",
      "      HelpfulnessDenominator     Score        Time  \\\n",
      "2334                       3  positive  1190592000   \n",
      "29                         1  positive  1107820800   \n",
      "2323                       0  negative  1127606400   \n",
      "2309                       0  negative  1127606400   \n",
      "4640                       0  positive  1338940800   \n",
      "\n",
      "                                          Summary  \\\n",
      "2334  Chocolate Italian kisses - need I say more?   \n",
      "29                The Best Hot Sauce in the World   \n",
      "2323                               Below standard   \n",
      "2309                               Below standard   \n",
      "4640                       LOVELY JUNIPER BERRIES   \n",
      "\n",
      "                                                   Text  \n",
      "2334  My family has been in love with Baci's ever si...  \n",
      "29    I don't know if it's the cactus or the tequila...  \n",
      "2323  Too much of the white pith on this orange peel...  \n",
      "2309  Too much of the white pith on this orange peel...  \n",
      "4640  Dried berries, still with texture and the quin...  \n"
     ]
    }
   ],
   "source": [
    "\n",
    "# To check the duplications in raw data\n",
    "dupli=sorted_data[sorted_data.duplicated([\"UserId\",\"ProfileName\",\"Time\",\"Text\"])]\n",
    "print(dupli.head(5))"
   ]
  },
  {
   "cell_type": "markdown",
   "metadata": {},
   "source": [
    "#### observation:\n",
    "* Same profile ID gave samiliar reviews at the same time.\n",
    "* Repitation of text,summary,time,profile-ID for same product\n"
   ]
  },
  {
   "cell_type": "code",
   "execution_count": 10,
   "metadata": {},
   "outputs": [
    {
     "data": {
      "text/plain": [
       "(9515, 10)"
      ]
     },
     "execution_count": 10,
     "metadata": {},
     "output_type": "execute_result"
    }
   ],
   "source": [
    "# Remove Deduplication of entries\n",
    "final=sorted_data.drop_duplicates(subset={\"UserId\",\"ProfileName\",\"Time\",\"Text\"}, keep='first', inplace=False)\n",
    "final.shape"
   ]
  },
  {
   "cell_type": "code",
   "execution_count": 11,
   "metadata": {},
   "outputs": [
    {
     "data": {
      "text/plain": [
       "95.15"
      ]
     },
     "execution_count": 11,
     "metadata": {},
     "output_type": "execute_result"
    }
   ],
   "source": [
    "#Checking to see how much % of data still remains\n",
    "(final['Id'].size*1.0)/(amz['Id'].size*1.0)*100"
   ]
  },
  {
   "cell_type": "code",
   "execution_count": 12,
   "metadata": {},
   "outputs": [],
   "source": [
    "final=final[final.HelpfulnessNumerator<=final.HelpfulnessDenominator]"
   ]
  },
  {
   "cell_type": "code",
   "execution_count": 13,
   "metadata": {},
   "outputs": [
    {
     "name": "stdout",
     "output_type": "stream",
     "text": [
      "(9515, 10)\n"
     ]
    },
    {
     "data": {
      "text/plain": [
       "positive    8082\n",
       "negative    1433\n",
       "Name: Score, dtype: int64"
      ]
     },
     "execution_count": 13,
     "metadata": {},
     "output_type": "execute_result"
    }
   ],
   "source": [
    "#Before starting the next phase of preprocessing lets see the number of entries left\n",
    "print(final.shape)\n",
    "\n",
    "#How many positive and negative reviews are present in our dataset?\n",
    "final['Score'].value_counts()"
   ]
  },
  {
   "cell_type": "markdown",
   "metadata": {},
   "source": [
    "#### Data Pre-processing on raw data:\n",
    "\n",
    "Every datasets contains some unwanted data.Raw data is preprocessed by removing duplication. here, Data is preprocessed on csv data. Given amazon datasets is also avaliable in form of SQLite Database. \n"
   ]
  },
  {
   "cell_type": "markdown",
   "metadata": {},
   "source": [
    "## .1(b)SQLite Database \n",
    " SQLITE dataset is easier to query the data and visualise the data efficiently. "
   ]
  },
  {
   "cell_type": "code",
   "execution_count": 14,
   "metadata": {},
   "outputs": [],
   "source": [
    "# using the SQLite Table to read data.\n",
    "con = sqlite3.connect('database.sqlite') \n",
    "\n",
    "\n",
    "\n",
    "#filtering only positive and negative reviews i.e. \n",
    "\n",
    "filtered_data = pd.read_sql_query(\"\"\"\n",
    "SELECT *\n",
    "FROM Reviews\n",
    "WHERE Score != 3\n",
    "\"\"\", con) \n"
   ]
  },
  {
   "cell_type": "markdown",
   "metadata": {},
   "source": [
    "Above query is used the SQLite Table to read data.Here, data is preprocessed using csv file and output is final['Score']."
   ]
  },
  {
   "cell_type": "markdown",
   "metadata": {},
   "source": [
    "# Text Preprocessing:"
   ]
  },
  {
   "cell_type": "code",
   "execution_count": 15,
   "metadata": {},
   "outputs": [
    {
     "name": "stdout",
     "output_type": "stream",
     "text": [
      "1\n",
      "Why is this $[...] when the same product is available for $[...] here?<br />http://www.amazon.com/VICTOR-FLY-MAGNET-BAIT-REFILL/dp/B00004RBDY<br /><br />The Victor M380 and M502 traps are unreal, of course -- total fly genocide. Pretty stinky, but only right nearby.\n"
     ]
    }
   ],
   "source": [
    "# find sentences containing HTML tags\n",
    "\n",
    "i=0;\n",
    "for sent in final['Text'].values:\n",
    "    if (len(re.findall('<.*?>', sent))):\n",
    "        print(i)\n",
    "        print(sent)\n",
    "        break;\n",
    "    i += 1; "
   ]
  },
  {
   "cell_type": "markdown",
   "metadata": {},
   "source": [
    "#### Observations:\n",
    "* Text containing html tags like <.*?> is removed for processing the data.\n",
    "Read the sentences and find html tags and remove it."
   ]
  },
  {
   "cell_type": "code",
   "execution_count": 16,
   "metadata": {},
   "outputs": [
    {
     "name": "stdout",
     "output_type": "stream",
     "text": [
      "{'didn', 'm', 'wasn', 'i', 'when', 'them', 'yours', 'of', 'can', \"haven't\", 'doing', 'there', 'any', 'mustn', 'this', 'both', 'has', 'ma', 'were', 'wouldn', 'hasn', 'couldn', 'what', 'me', 'did', \"wouldn't\", 'because', 'with', 'before', 'aren', \"didn't\", 't', 'here', 'will', 'his', 'haven', 'won', 'down', 'll', \"weren't\", 'her', 'that', 'to', 'again', 've', \"mightn't\", \"shouldn't\", 'she', 'doesn', 'just', 'too', 'most', 'ours', 'not', 'itself', 'being', 'herself', 'are', \"mustn't\", 'by', 'further', \"wasn't\", 'each', 'under', \"you'd\", 's', 'mightn', \"hadn't\", \"won't\", 'our', 'himself', 'should', 'while', 'over', 'for', \"that'll\", 'some', 'how', 'below', 'an', 'few', \"she's\", \"doesn't\", 'as', 'into', 'hadn', 'than', 'or', 'd', 'does', 'you', 'o', 'who', 'why', 'on', 'after', 'whom', 'hers', 'about', 'y', 'isn', 'been', 'if', 'am', \"you've\", 'all', 'my', \"isn't\", 'during', 'having', 'have', 'is', 'do', 'other', 'ain', \"needn't\", 'now', 'through', 'had', \"shan't\", 'weren', 'from', \"hasn't\", 'against', \"it's\", 'between', 'its', 'their', 'needn', \"couldn't\", 'him', 'theirs', 'your', 'once', \"you'll\", 'myself', 'a', 'out', 'be', 'yourselves', 'the', 'same', 're', 'yourself', 'but', 'up', 'above', 'nor', 'very', 'no', 'shouldn', 'was', \"aren't\", 'and', 'at', 'ourselves', \"you're\", 'until', 'so', \"don't\", 'don', \"should've\", 'it', 'we', 'such', 'these', 'where', 'they', 'more', 'which', 'he', 'themselves', 'only', 'shan', 'in', 'those', 'off', 'then', 'own'}\n",
      "************************************\n",
      "tasti\n"
     ]
    }
   ],
   "source": [
    "import string\n",
    "import nltk\n",
    "from nltk.corpus import stopwords\n",
    "from nltk.stem import PorterStemmer\n",
    "from nltk.stem.wordnet import WordNetLemmatizer\n",
    "\n",
    "stop = set(stopwords.words('english')) #set of stopwords\n",
    "sno = nltk.stem.SnowballStemmer('english') #initialising the snowball stemmer\n",
    "\n",
    "def cleanhtml(sentence): #function to clean the word of any html-tags\n",
    "    cleanr = re.compile('<.*?>')\n",
    "    cleantext = re.sub(cleanr, ' ', sentence)\n",
    "    return cleantext\n",
    "def cleanpunc(sentence): #function to clean the word of any punctuation or special characters\n",
    "    cleaned = re.sub(r'[?|!|\\'|\"|#]',r'',sentence)\n",
    "    cleaned = re.sub(r'[.|,|)|(|\\|/]',r' ',cleaned)\n",
    "    return  cleaned\n",
    "print(stop)\n",
    "print('************************************')\n",
    "print(sno.stem('tasty'))"
   ]
  },
  {
   "cell_type": "code",
   "execution_count": 17,
   "metadata": {},
   "outputs": [],
   "source": [
    "#print(final['Text'][0:10000])"
   ]
  },
  {
   "cell_type": "markdown",
   "metadata": {},
   "source": [
    "#### Observations:\n",
    "* English stopwords , printed in above text wwhich are common in almost any sentence are removed using nltk SnowballStemmer .Then we are cleaning the punctuations and html tags."
   ]
  },
  {
   "cell_type": "code",
   "execution_count": 18,
   "metadata": {},
   "outputs": [
    {
     "name": "stdout",
     "output_type": "stream",
     "text": [
      "b'avail'\n",
      "b'tast'\n"
     ]
    }
   ],
   "source": [
    "#Code for implementing step-by-step the checks mentioned in the pre-processing phase.\n",
    "i=0\n",
    "str1=' '\n",
    "final_string=[]\n",
    "all_positive_words=[] \n",
    "all_negative_words=[] \n",
    "s=''\n",
    "for sent in final['Text'].values:\n",
    "    filtered_sentence=[]\n",
    "    #print(sent);\n",
    "    sent=cleanhtml(sent) # remove HTMl tags\n",
    "    for w in sent.split():\n",
    "        for cleaned_words in cleanpunc(w).split():\n",
    "            if((cleaned_words.isalpha()) & (len(cleaned_words)>2)):    \n",
    "                if(cleaned_words.lower() not in stop):\n",
    "                    s=(sno.stem(cleaned_words.lower())).encode('utf8')\n",
    "                    filtered_sentence.append(s)\n",
    "                    if (final['Score'].values)[i] == 'positive': \n",
    "                        all_positive_words.append(s) #list of all words used to describe positive reviews\n",
    "                    if(final['Score'].values)[i] == 'negative':\n",
    "                        all_negative_words.append(s) #list of all words used to describe negative reviews reviews\n",
    "                else:\n",
    "                    continue\n",
    "            else:\n",
    "                continue \n",
    "    #print(filtered_sentence)\n",
    "    str1 = b\" \".join(filtered_sentence) #final string of cleaned words\n",
    "    #print(\"***********************************************************************\")\n",
    "    \n",
    "    final_string.append(str1)\n",
    "    i+=1\n",
    "    \n",
    "print(all_positive_words[10])\n",
    "print(all_negative_words[10])"
   ]
  },
  {
   "cell_type": "code",
   "execution_count": 19,
   "metadata": {},
   "outputs": [],
   "source": [
    "final['CleanedText']=final_string #adding a column of CleanedText which displays the data after pre-processing of the review "
   ]
  },
  {
   "cell_type": "code",
   "execution_count": 20,
   "metadata": {},
   "outputs": [
    {
     "data": {
      "text/html": [
       "<div>\n",
       "<style scoped>\n",
       "    .dataframe tbody tr th:only-of-type {\n",
       "        vertical-align: middle;\n",
       "    }\n",
       "\n",
       "    .dataframe tbody tr th {\n",
       "        vertical-align: top;\n",
       "    }\n",
       "\n",
       "    .dataframe thead th {\n",
       "        text-align: right;\n",
       "    }\n",
       "</style>\n",
       "<table border=\"1\" class=\"dataframe\">\n",
       "  <thead>\n",
       "    <tr style=\"text-align: right;\">\n",
       "      <th></th>\n",
       "      <th>Id</th>\n",
       "      <th>ProductId</th>\n",
       "      <th>UserId</th>\n",
       "      <th>ProfileName</th>\n",
       "      <th>HelpfulnessNumerator</th>\n",
       "      <th>HelpfulnessDenominator</th>\n",
       "      <th>Score</th>\n",
       "      <th>Time</th>\n",
       "      <th>Summary</th>\n",
       "      <th>Text</th>\n",
       "      <th>CleanedText</th>\n",
       "    </tr>\n",
       "  </thead>\n",
       "  <tbody>\n",
       "    <tr>\n",
       "      <th>2774</th>\n",
       "      <td>2775</td>\n",
       "      <td>B00002NCJC</td>\n",
       "      <td>A13RRPGE79XFFH</td>\n",
       "      <td>reader48</td>\n",
       "      <td>0</td>\n",
       "      <td>0</td>\n",
       "      <td>positive</td>\n",
       "      <td>1281052800</td>\n",
       "      <td>Flies Begone</td>\n",
       "      <td>We have used the Victor fly bait for 3 seasons...</td>\n",
       "      <td>b'use victor fli bait season cant beat great p...</td>\n",
       "    </tr>\n",
       "    <tr>\n",
       "      <th>2773</th>\n",
       "      <td>2774</td>\n",
       "      <td>B00002NCJC</td>\n",
       "      <td>A196AJHU9EASJN</td>\n",
       "      <td>Alex Chaffee</td>\n",
       "      <td>0</td>\n",
       "      <td>0</td>\n",
       "      <td>positive</td>\n",
       "      <td>1282953600</td>\n",
       "      <td>thirty bucks?</td>\n",
       "      <td>Why is this $[...] when the same product is av...</td>\n",
       "      <td>b'product avail www amazon com victor trap unr...</td>\n",
       "    </tr>\n",
       "    <tr>\n",
       "      <th>1243</th>\n",
       "      <td>1244</td>\n",
       "      <td>B00002Z754</td>\n",
       "      <td>A3B8RCEI0FXFI6</td>\n",
       "      <td>B G Chase</td>\n",
       "      <td>10</td>\n",
       "      <td>10</td>\n",
       "      <td>positive</td>\n",
       "      <td>962236800</td>\n",
       "      <td>WOW Make your own 'slickers' !</td>\n",
       "      <td>I just received my shipment and could hardly w...</td>\n",
       "      <td>b'receiv shipment could hard wait tri product ...</td>\n",
       "    </tr>\n",
       "  </tbody>\n",
       "</table>\n",
       "</div>"
      ],
      "text/plain": [
       "        Id   ProductId          UserId   ProfileName  HelpfulnessNumerator  \\\n",
       "2774  2775  B00002NCJC  A13RRPGE79XFFH      reader48                     0   \n",
       "2773  2774  B00002NCJC  A196AJHU9EASJN  Alex Chaffee                     0   \n",
       "1243  1244  B00002Z754  A3B8RCEI0FXFI6     B G Chase                    10   \n",
       "\n",
       "      HelpfulnessDenominator     Score        Time  \\\n",
       "2774                       0  positive  1281052800   \n",
       "2773                       0  positive  1282953600   \n",
       "1243                      10  positive   962236800   \n",
       "\n",
       "                             Summary  \\\n",
       "2774                    Flies Begone   \n",
       "2773                   thirty bucks?   \n",
       "1243  WOW Make your own 'slickers' !   \n",
       "\n",
       "                                                   Text  \\\n",
       "2774  We have used the Victor fly bait for 3 seasons...   \n",
       "2773  Why is this $[...] when the same product is av...   \n",
       "1243  I just received my shipment and could hardly w...   \n",
       "\n",
       "                                            CleanedText  \n",
       "2774  b'use victor fli bait season cant beat great p...  \n",
       "2773  b'product avail www amazon com victor trap unr...  \n",
       "1243  b'receiv shipment could hard wait tri product ...  "
      ]
     },
     "execution_count": 20,
     "metadata": {},
     "output_type": "execute_result"
    }
   ],
   "source": [
    "final.head(3) #below the processed review can be seen in the CleanedText Column \n",
    "\n"
   ]
  },
  {
   "cell_type": "code",
   "execution_count": 21,
   "metadata": {},
   "outputs": [
    {
     "name": "stdout",
     "output_type": "stream",
     "text": [
      "(9515,)\n",
      "(9515,)\n"
     ]
    }
   ],
   "source": [
    "k=final['CleanedText']\n",
    "R_data = k[0:10000]  # R_data is used for further processing\n",
    "pn_score =final['Score'][0:10000] # pn-score is positive or negative score\n",
    "print(pn_score.shape)\n",
    "print(R_data.shape)"
   ]
  },
  {
   "cell_type": "markdown",
   "metadata": {},
   "source": [
    "After removing duplication & cleaning data, R_data is used for further processing and pn-score is positive or negative score"
   ]
  },
  {
   "cell_type": "markdown",
   "metadata": {},
   "source": [
    "### Methods:\n",
    "* Bag of Words\n",
    "* Avg word2vec\n",
    "* Tf-idf\n",
    "* tf-idf weighted Word2Vec\n",
    "\n",
    "Using above four method is used for featurization of data.t-sne plot is observed based on reviews with polarity.The featurization of above four method is as follows:-"
   ]
  },
  {
   "cell_type": "markdown",
   "metadata": {},
   "source": [
    "# 1. Bag of Words (BoW)"
   ]
  },
  {
   "cell_type": "code",
   "execution_count": 22,
   "metadata": {},
   "outputs": [
    {
     "data": {
      "text/plain": [
       "(9515, 11779)"
      ]
     },
     "execution_count": 22,
     "metadata": {},
     "output_type": "execute_result"
    }
   ],
   "source": [
    "count_vect = CountVectorizer() #in scikit-learn\n",
    "data = count_vect.fit_transform(R_data.values)\n",
    "data.get_shape()\n",
    "# bi-gram, tri-gram and n-gram#\n",
    "#count_vect = CountVectorizer(ngram_range=(1,2) ) #in scikit-learn\n",
    "#final_bigram_counts = count_vect.fit_transform(R_data.values)\n",
    "#final_bigram_counts.get_shape()\n",
    "\n"
   ]
  },
  {
   "cell_type": "code",
   "execution_count": 23,
   "metadata": {},
   "outputs": [
    {
     "name": "stdout",
     "output_type": "stream",
     "text": [
      "(9515, 11779)\n"
     ]
    }
   ],
   "source": [
    "#for 10k reviews, bow\n",
    "data1= data[0:10000,:]\n",
    "print(data1.shape)"
   ]
  },
  {
   "cell_type": "markdown",
   "metadata": {},
   "source": [
    "# 2. Avg word2vec\n",
    "Firstly, word2vec model is designed for amazon reviews using gensim module."
   ]
  },
  {
   "cell_type": "code",
   "execution_count": 24,
   "metadata": {},
   "outputs": [
    {
     "name": "stderr",
     "output_type": "stream",
     "text": [
      "C:\\ProgramData\\Anaconda3\\lib\\site-packages\\gensim\\utils.py:1197: UserWarning: detected Windows; aliasing chunkize to chunkize_serial\n",
      "  warnings.warn(\"detected Windows; aliasing chunkize to chunkize_serial\")\n"
     ]
    }
   ],
   "source": [
    "# traing word2vec model for amazon reviews using gensim\n",
    "import gensim\n",
    "i=0\n",
    "list_of_sent=[]\n",
    "for sent in final['Text'].values:\n",
    "    filtered_sentence=[]\n",
    "    sent=cleanhtml(sent)\n",
    "    for w in sent.split():\n",
    "        for cleaned_words in cleanpunc(w).split():\n",
    "            if(cleaned_words.isalpha()):    \n",
    "                filtered_sentence.append(cleaned_words.lower())\n",
    "            else:\n",
    "                continue \n",
    "    list_of_sent.append(filtered_sentence)\n",
    "    "
   ]
  },
  {
   "cell_type": "code",
   "execution_count": 25,
   "metadata": {},
   "outputs": [
    {
     "name": "stdout",
     "output_type": "stream",
     "text": [
      "9515\n"
     ]
    }
   ],
   "source": [
    "print(len(list_of_sent))\n",
    "#print(final['Text'].values[0])\n",
    "#print(\"*****************************************************************\")\n",
    "#print(list_of_sent[56])"
   ]
  },
  {
   "cell_type": "code",
   "execution_count": 26,
   "metadata": {},
   "outputs": [
    {
     "name": "stdout",
     "output_type": "stream",
     "text": [
      "9515\n"
     ]
    }
   ],
   "source": [
    "#Creating word2vec on cleaned text\n",
    "import gensim\n",
    "w=[]\n",
    "for text in final['CleanedText'].values: \n",
    "    filter_text=[]\n",
    "    for i in text.split():\n",
    "        if(i.isalpha()):\n",
    "            filter_text.append(i.lower())\n",
    "        else:\n",
    "            continue \n",
    "    w.append(filter_text)\n",
    "print(len(w))\n",
    "# w word2vec of cleaned text"
   ]
  },
  {
   "cell_type": "code",
   "execution_count": 27,
   "metadata": {},
   "outputs": [],
   "source": [
    "w2v_model=gensim.models.Word2Vec(list_of_sent,min_count=5,size=100, workers=4) \n",
    "#this model is used in avg word2vec   \n"
   ]
  },
  {
   "cell_type": "code",
   "execution_count": 28,
   "metadata": {},
   "outputs": [
    {
     "name": "stdout",
     "output_type": "stream",
     "text": [
      "5804\n"
     ]
    }
   ],
   "source": [
    "words = list(w2v_model.wv.vocab)\n",
    "print(len(words))"
   ]
  },
  {
   "cell_type": "markdown",
   "metadata": {},
   "source": [
    "#### Avg Word2Vec "
   ]
  },
  {
   "cell_type": "code",
   "execution_count": 29,
   "metadata": {},
   "outputs": [
    {
     "name": "stderr",
     "output_type": "stream",
     "text": [
      "C:\\ProgramData\\Anaconda3\\lib\\site-packages\\ipykernel_launcher.py:14: RuntimeWarning: invalid value encountered in true_divide\n",
      "  \n"
     ]
    },
    {
     "name": "stdout",
     "output_type": "stream",
     "text": [
      "9515\n"
     ]
    }
   ],
   "source": [
    "# average Word2Vec\n",
    "\n",
    "sent_vectors = []; \n",
    "for sent in R_data: # for each review/sentence\n",
    "    sent_vec = np.zeros(100) \n",
    "    cnt_words =0; # num of words with a valid vector in the sentence/review\n",
    "    for word in sent: \n",
    "        try:\n",
    "            vec = w2v_model.wv[word]\n",
    "            sent_vec += vec\n",
    "            cnt_words += 1\n",
    "        except:\n",
    "            pass\n",
    "    sent_vec /= cnt_words\n",
    "    sent_vectors.append(sent_vec)\n",
    "\n",
    "\n",
    "print(len(sent_vectors))\n",
    "\n",
    "#print(sent_vectors[0:4])\n",
    "\n",
    "\n",
    "\n"
   ]
  },
  {
   "cell_type": "code",
   "execution_count": 30,
   "metadata": {},
   "outputs": [
    {
     "name": "stdout",
     "output_type": "stream",
     "text": [
      "[nan nan nan nan nan nan nan nan nan nan nan nan nan nan nan nan nan nan\n",
      " nan nan nan nan nan nan nan nan nan nan nan nan nan nan nan nan nan nan\n",
      " nan nan nan nan nan nan nan nan nan nan nan nan nan nan nan nan nan nan\n",
      " nan nan nan nan nan nan nan nan nan nan nan nan nan nan nan nan nan nan\n",
      " nan nan nan nan nan nan nan nan nan nan nan nan nan nan nan nan nan nan\n",
      " nan nan nan nan nan nan nan nan nan nan]\n",
      "[0. 0. 0. 0. 0. 0. 0. 0. 0. 0. 0. 0. 0. 0. 0. 0. 0. 0. 0. 0. 0. 0. 0. 0.\n",
      " 0. 0. 0. 0. 0. 0. 0. 0. 0. 0. 0. 0. 0. 0. 0. 0. 0. 0. 0. 0. 0. 0. 0. 0.\n",
      " 0. 0. 0. 0. 0. 0. 0. 0. 0. 0. 0. 0. 0. 0. 0. 0. 0. 0. 0. 0. 0. 0. 0. 0.\n",
      " 0. 0. 0. 0. 0. 0. 0. 0. 0. 0. 0. 0. 0. 0. 0. 0. 0. 0. 0. 0. 0. 0. 0. 0.\n",
      " 0. 0. 0. 0.]\n"
     ]
    }
   ],
   "source": [
    "# to check the formator of data vector\n",
    "print(sent_vectors[7890])\n",
    "# convert the nan value into zero for further processing\n",
    "b = np.where(np.isnan(sent_vectors), 0, sent_vectors)\n",
    "print(b[7890])\n"
   ]
  },
  {
   "cell_type": "code",
   "execution_count": 31,
   "metadata": {},
   "outputs": [
    {
     "name": "stdout",
     "output_type": "stream",
     "text": [
      "<class 'numpy.ndarray'>\n"
     ]
    }
   ],
   "source": [
    "# converting list to nd array\n",
    "\n",
    "data2_avg = np.asarray(b)\n",
    "print(type(data2_avg))\n",
    "#data2 is used for further processing"
   ]
  },
  {
   "cell_type": "markdown",
   "metadata": {},
   "source": [
    "# 3. tf-idf\n"
   ]
  },
  {
   "cell_type": "code",
   "execution_count": 32,
   "metadata": {},
   "outputs": [
    {
     "data": {
      "text/plain": [
       "(9515, 212248)"
      ]
     },
     "execution_count": 32,
     "metadata": {},
     "output_type": "execute_result"
    }
   ],
   "source": [
    "# tf-idf \n",
    "tf_idf_vect = TfidfVectorizer(ngram_range=(1,2))\n",
    "final_tf_idf = tf_idf_vect.fit_transform(R_data.values)\n",
    "final_tf_idf.get_shape()"
   ]
  },
  {
   "cell_type": "code",
   "execution_count": 33,
   "metadata": {},
   "outputs": [
    {
     "data": {
      "text/plain": [
       "212248"
      ]
     },
     "execution_count": 33,
     "metadata": {},
     "output_type": "execute_result"
    }
   ],
   "source": [
    "features = tf_idf_vect.get_feature_names()\n",
    "len(features)"
   ]
  },
  {
   "cell_type": "code",
   "execution_count": 34,
   "metadata": {},
   "outputs": [
    {
     "name": "stdout",
     "output_type": "stream",
     "text": [
      "<class 'scipy.sparse.csr.csr_matrix'>\n"
     ]
    }
   ],
   "source": [
    "data3 =final_tf_idf[:,:]\n",
    "#print(data3)\n",
    "print(type(data3))"
   ]
  },
  {
   "cell_type": "markdown",
   "metadata": {},
   "source": [
    "#  4.TF-IDF weighted Word2Vec"
   ]
  },
  {
   "cell_type": "code",
   "execution_count": 35,
   "metadata": {},
   "outputs": [
    {
     "name": "stderr",
     "output_type": "stream",
     "text": [
      "C:\\ProgramData\\Anaconda3\\lib\\site-packages\\ipykernel_launcher.py:18: RuntimeWarning: invalid value encountered in true_divide\n"
     ]
    }
   ],
   "source": [
    "# TF-IDF weighted Word2Vec\n",
    "tfidf_feat = tf_idf_vect.get_feature_names() \n",
    "\n",
    "tfidf_sent_vectors = []; \n",
    "row=0;\n",
    "for sent in R_data: \n",
    "    sent_vec = np.zeros(100) # 100 dimension\n",
    "    weight_sum =0; \n",
    "    for word in sent: \n",
    "        try:\n",
    "            vec = w2v_model.wv[word]\n",
    "            \n",
    "            tfidf = final_tf_idf[row, tfidf_feat.index(word)]\n",
    "            sent_vec += (vec * tf_idf)\n",
    "            weight_sum += tf_idf\n",
    "        except:\n",
    "            pass\n",
    "    sent_vec /= weight_sum\n",
    "    tfidf_sent_vectors.append(sent_vec)\n",
    "    row += 1"
   ]
  },
  {
   "cell_type": "code",
   "execution_count": 36,
   "metadata": {},
   "outputs": [
    {
     "name": "stdout",
     "output_type": "stream",
     "text": [
      "9515\n"
     ]
    }
   ],
   "source": [
    "print(len(tfidf_sent_vectors))"
   ]
  },
  {
   "cell_type": "code",
   "execution_count": 37,
   "metadata": {},
   "outputs": [
    {
     "name": "stdout",
     "output_type": "stream",
     "text": [
      "<class 'numpy.ndarray'>\n"
     ]
    }
   ],
   "source": [
    "data41 = np.asarray(tfidf_sent_vectors)\n",
    "print(type(data41))\n"
   ]
  },
  {
   "cell_type": "code",
   "execution_count": 38,
   "metadata": {},
   "outputs": [
    {
     "name": "stdout",
     "output_type": "stream",
     "text": [
      "[nan nan nan nan nan nan nan nan nan nan nan nan nan nan nan nan nan nan\n",
      " nan nan nan nan nan nan nan nan nan nan nan nan nan nan nan nan nan nan\n",
      " nan nan nan nan nan nan nan nan nan nan nan nan nan nan nan nan nan nan\n",
      " nan nan nan nan nan nan nan nan nan nan nan nan nan nan nan nan nan nan\n",
      " nan nan nan nan nan nan nan nan nan nan nan nan nan nan nan nan nan nan\n",
      " nan nan nan nan nan nan nan nan nan nan]\n",
      "[0. 0. 0. 0. 0. 0. 0. 0. 0. 0. 0. 0. 0. 0. 0. 0. 0. 0. 0. 0. 0. 0. 0. 0.\n",
      " 0. 0. 0. 0. 0. 0. 0. 0. 0. 0. 0. 0. 0. 0. 0. 0. 0. 0. 0. 0. 0. 0. 0. 0.\n",
      " 0. 0. 0. 0. 0. 0. 0. 0. 0. 0. 0. 0. 0. 0. 0. 0. 0. 0. 0. 0. 0. 0. 0. 0.\n",
      " 0. 0. 0. 0. 0. 0. 0. 0. 0. 0. 0. 0. 0. 0. 0. 0. 0. 0. 0. 0. 0. 0. 0. 0.\n",
      " 0. 0. 0. 0.]\n"
     ]
    }
   ],
   "source": [
    "print(tfidf_sent_vectors[786])\n",
    "bcd = np.where(np.isnan(tfidf_sent_vectors), 0, tfidf_sent_vectors)\n",
    "print(bcd[786])"
   ]
  },
  {
   "cell_type": "markdown",
   "metadata": {},
   "source": [
    "tfidf_sent_vectors contains nan value. In above program is replacing nan value to 'o'."
   ]
  },
  {
   "cell_type": "code",
   "execution_count": 39,
   "metadata": {},
   "outputs": [
    {
     "name": "stdout",
     "output_type": "stream",
     "text": [
      "<class 'numpy.ndarray'>\n"
     ]
    }
   ],
   "source": [
    "#check the type od data\n",
    "data2_tf = np.asarray(bcd)\n",
    "print(type(data2_tf))"
   ]
  },
  {
   "cell_type": "code",
   "execution_count": 40,
   "metadata": {},
   "outputs": [],
   "source": [
    "#print(myarray2[4])\n",
    "data4=data41[0:10000,:]\n"
   ]
  },
  {
   "cell_type": "markdown",
   "metadata": {},
   "source": [
    "As there is computational limit , 10k data is processed for t-sne plots."
   ]
  },
  {
   "cell_type": "code",
   "execution_count": 41,
   "metadata": {
    "scrolled": true
   },
   "outputs": [
    {
     "name": "stdout",
     "output_type": "stream",
     "text": [
      "a\n",
      "vectorization technique is  bag  of words\n",
      "d\n",
      "<class 'numpy.ndarray'>\n",
      "e\n",
      "(9515, 3)\n",
      "f\n",
      "g\n",
      "h\n"
     ]
    },
    {
     "data": {
      "image/png": "[encoded data removed]",
      "text/plain": [
       "<Figure size 511.75x432 with 1 Axes>"
      ]
     },
     "metadata": {},
     "output_type": "display_data"
    },
    {
     "name": "stdout",
     "output_type": "stream",
     "text": [
      "vectorization technique is  tf-idf\n",
      "d\n",
      "<class 'numpy.ndarray'>\n",
      "e\n",
      "(9515, 3)\n",
      "f\n",
      "g\n",
      "h\n"
     ]
    },
    {
     "data": {
      "image/png": "[encoded data removed]",
      "text/plain": [
       "<Figure size 511.75x432 with 1 Axes>"
      ]
     },
     "metadata": {},
     "output_type": "display_data"
    }
   ],
   "source": [
    "from sklearn.manifold import TSNE\n",
    "import seaborn as sn\n",
    "print(\"a\")\n",
    "R=['bag  of words','tf-idf']\n",
    "X =[data,data3] # for large datavalues  \n",
    "\n",
    "Y=[data[0:10000,10000],data3[0:10000,10000]] # for small datavalues to run .\n",
    "\n",
    "\n",
    "#data_1000 = data[0:1000,:].toarray()\n",
    "#print(data_1000.shape)\n",
    "#print(\"b\")\n",
    "labels_1000 = pn_score[0:10000]\n",
    "#print(labels_1000.shape)\n",
    "#print(\"c\")\n",
    "for i in range(len(X)):\n",
    "    Y_data=Y[i].toarray()\n",
    "    print('vectorization technique is ',R[i])\n",
    "#print(data_1000)\n",
    "    model = TSNE(n_components=2, random_state=0)\n",
    "    print(\"d\")\n",
    "    tsne_data = model.fit_transform(Y_data)\n",
    "    print(type(tsne_data))\n",
    "    print(\"e\")\n",
    "    tsne_data = np.vstack((tsne_data.T, labels_1000)).T\n",
    "    print(tsne_data.shape)\n",
    "    print(\"f\")\n",
    "    tsne_df = pd.DataFrame(data=tsne_data, columns=(\"positive\", \"negative\", \"label\"))\n",
    "    print(\"g\")\n",
    "\n",
    "    # Ploting the result of tsne\n",
    "    aa=sn.FacetGrid(tsne_df, hue=\"label\", size=6).map(plt.scatter, 'positive', 'negative').add_legend()\n",
    "    print(\"h\")\n",
    "    aa.fig.suptitle('tsne plot for '+str(R[i]))\n",
    "    plt.show()\n",
    "\n",
    "#print(labels_1000)"
   ]
  },
  {
   "cell_type": "markdown",
   "metadata": {},
   "source": [
    "#### Observations\n",
    "t-sne plot for Bag of words and tf-idf is shown above.After Text preprocessing the data and featurization, t-sne is plotted to visualize the polarity based on reviews.\n",
    "* here, only 10k is used out of 393931 values of datasets.\n",
    "* here,10000 dimensional is used for converting into low dimensional(i.e. 2D).All positive and negative reviews are visualized as shown in above figure.\n",
    "* For Bag of words,In t-sne plot ,postive and negative polarity reviews are visualized in the form of circles. Negative points and postive points are overlapping each others in 2D views.It is observed that positive and negative points are nearly equal in quantity.\n",
    "* For tf-idf,t-sne plot is also visualized in forms circle here and positive and negative polarity reviews are wonderfully visualized on t-sne plot.\n",
    "\n",
    "\n"
   ]
  },
  {
   "cell_type": "code",
   "execution_count": 82,
   "metadata": {},
   "outputs": [
    {
     "name": "stdout",
     "output_type": "stream",
     "text": [
      "(1000,)\n",
      "c\n",
      "vectorization technique is  Avg word2vec\n",
      "d\n",
      "e\n",
      "(1000, 3)\n",
      "f\n",
      "g\n",
      "h\n"
     ]
    },
    {
     "data": {
      "image/png": "[encoded data removed]",
      "text/plain": [
       "<Figure size 511.75x432 with 1 Axes>"
      ]
     },
     "metadata": {},
     "output_type": "display_data"
    },
    {
     "name": "stdout",
     "output_type": "stream",
     "text": [
      "vectorization technique is  tf-idf weighted Word2Vec\n",
      "d\n",
      "e\n",
      "(1000, 3)\n",
      "f\n",
      "g\n",
      "h\n"
     ]
    },
    {
     "data": {
      "image/png": "[encoded data removed]",
      "text/plain": [
       "<Figure size 511.75x432 with 1 Axes>"
      ]
     },
     "metadata": {},
     "output_type": "display_data"
    }
   ],
   "source": [
    "w2v_list=[data2_avg,data2_tf] # for large dataset\n",
    "w2v_small_list=[data2_avg[0:1000,:],data2_tf[0:1000,:]] # for small datasets\n",
    "#data_1000 = data2_tf[0:1000,:]\n",
    "#print(data_1000.shape)\n",
    "#print(\"b\")\n",
    "R1=['Avg word2vec','tf-idf weighted Word2Vec']\n",
    "labels_1000 = pn_score[0:1000]\n",
    "print(labels_1000.shape)\n",
    "print(\"c\")\n",
    "for j in range(len(w2v_small_list)):\n",
    "    w2v_data=w2v_small_list[j]\n",
    "    print('vectorization technique is ',R1[j])\n",
    "    model = TSNE(n_components=2, random_state=0)\n",
    "    print(\"d\")\n",
    "    tsne_data = model.fit_transform(w2v_data)\n",
    "    print(\"e\")\n",
    "    tsne_data = np.vstack((tsne_data.T, labels_1000)).T\n",
    "    print(tsne_data.shape)\n",
    "    print(\"f\")\n",
    "    tsne_df = pd.DataFrame(data=tsne_data, columns=(\"positive\", \"negative\", \"label\"))\n",
    "    print(\"g\")\n",
    "\n",
    "    # Ploting the result of tsne\n",
    "    aa1=sn.FacetGrid(tsne_df, hue=\"label\", size=6).map(plt.scatter, 'positive', 'negative').add_legend()\n",
    "    print(\"h\")\n",
    "    aa1.fig.suptitle('tsne plot for '+str(R1[j]))\n",
    "    plt.show()"
   ]
  },
  {
   "cell_type": "markdown",
   "metadata": {},
   "source": [
    "#### Observation\n",
    "* In  Average word2vec and tf-idf weighted Word2Vec, only 100 dimensions are plotted on t-sne because of computational limit.\n",
    "* t-sne plot for  Average word2vec and tf-idf weighted Word2Vec are visualized as above. As data points are taken less here(nearly 1000) for 100 dimensions ,the structure may seems different than actual t-sne plot of them.\n",
    "* It is observed from  Average word2vec and tf-idf weighted Word2Vec plots negative points are centered and postive points are going away from center.It means if dimesions is large and datapoints is high, all negative points will concentrated on the center and positive points will try to go away from center.\n",
    "* the structure of t-sne plot varies accouding to dimensions and feturizations data.\n",
    "* Here, we are plotting bag of words and tf-idf t-sne seperatly and  Average word2vec and tf-idf weighted Word2Vec seperately.Because while  Average word2vec and tf-idf weighted Word2Vec featurization vector is already in the form of nd.array while bag of words and tf-idf was not and it is converted into nd.array by using x.toarray().\n",
    "\n",
    "From t-sne plots,high dimensional data can be visualized in low dimension(2D).The objective to visualize the postive and negative reviews using t-sne is done."
   ]
  },
  {
   "cell_type": "code",
   "execution_count": 43,
   "metadata": {},
   "outputs": [
    {
     "name": "stdout",
     "output_type": "stream",
     "text": [
      "279717\n"
     ]
    }
   ],
   "source": [
    "print(336824-57107)"
   ]
  },
  {
   "cell_type": "code",
   "execution_count": null,
   "metadata": {},
   "outputs": [],
   "source": []
  }
 ],
 "metadata": {
  "kernelspec": {
   "display_name": "Python 3",
   "language": "python",
   "name": "python3"
  },
  "language_info": {
   "codemirror_mode": {
    "name": "ipython",
    "version": 3
   },
   "file_extension": ".py",
   "mimetype": "text/x-python",
   "name": "python",
   "nbconvert_exporter": "python",
   "pygments_lexer": "ipython3",
   "version": "3.6.5"
  }
 },
 "nbformat": 4,
 "nbformat_minor": 2
}
